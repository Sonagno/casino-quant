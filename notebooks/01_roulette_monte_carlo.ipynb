{
  "cells": [
    {
      "cell_type": "markdown",
      "metadata": {},
      "source": [
        "# Roulette Monte Carlo — Introduction\n",
        "\n",
        "Ce notebook simule des lancers de roulette (européenne) et calcule des métriques de risque simples (VaR/ES)."
      ]
    },
    {
      "cell_type": "code",
      "execution_count": null,
      "metadata": {},
      "outputs": [],
      "source": [
        "from casino_quant.roulette import simulate_roulette\n",
        "res = simulate_roulette(10000, bet='red', stake=1.0, seed=42)\n",
        "res.total_pnl, res.mean_pnl, res.std_pnl, res.var_95, res.es_95"
      ]
    }
  ],
  "metadata": {
    "kernelspec": {
      "display_name": "Python 3",
      "language": "python",
      "name": "python3"
    },
    "language_info": {
      "name": "python",
      "version": "3.x"
    }
  },
  "nbformat": 4,
  "nbformat_minor": 5
}